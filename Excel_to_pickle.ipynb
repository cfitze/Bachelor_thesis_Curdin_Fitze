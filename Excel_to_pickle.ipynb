{
 "cells": [
  {
   "cell_type": "code",
   "execution_count": 7,
   "metadata": {},
   "outputs": [
    {
     "name": "stdout",
     "output_type": "stream",
     "text": [
      "Excel file \"BA_23FS_Curdin_Fitze_13_daily_TSextract.xlsx\" converted and saved as pickle file \"BA_23FS_Curdin_Fitze_13_daily_TSextract.pickle\"\n"
     ]
    }
   ],
   "source": [
    "import pandas as pd\n",
    "import pickle\n",
    "\n",
    "# Replace 'input_excel_file.xlsx' with the path to your Excel file\n",
    "excel_file_path = 'BA_23FS_Curdin_Fitze_13_daily_TSextract.xlsx'\n",
    "\n",
    "# Read the Excel file using pandas\n",
    "data_frame = pd.read_excel(excel_file_path)\n",
    "\n",
    "# Replace 'output_pickle_file.pkl' with the desired path for the pickle file\n",
    "pickle_file_path = 'BA_23FS_Curdin_Fitze_13_daily_TSextract.pickle'\n",
    "\n",
    "# Save the data_frame as a pickle file\n",
    "with open(pickle_file_path, 'wb') as file:\n",
    "    pickle.dump(data_frame, file)\n",
    "\n",
    "print(f'Excel file \"{excel_file_path}\" converted and saved as pickle file \"{pickle_file_path}\"')\n"
   ]
  }
 ],
 "metadata": {
  "kernelspec": {
   "display_name": "VSCode_package",
   "language": "python",
   "name": "python3"
  },
  "language_info": {
   "codemirror_mode": {
    "name": "ipython",
    "version": 3
   },
   "file_extension": ".py",
   "mimetype": "text/x-python",
   "name": "python",
   "nbconvert_exporter": "python",
   "pygments_lexer": "ipython3",
   "version": "3.11.4"
  },
  "orig_nbformat": 4
 },
 "nbformat": 4,
 "nbformat_minor": 2
}
